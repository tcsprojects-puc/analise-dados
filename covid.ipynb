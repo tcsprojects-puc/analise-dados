{
  "nbformat": 4,
  "nbformat_minor": 0,
  "metadata": {
    "colab": {
      "name": "covid.ipynb",
      "provenance": [],
      "collapsed_sections": [],
      "toc_visible": true,
      "mount_file_id": "1tFkel0WSvUjy3dLM6YeBVCnfIWh5uM1q",
      "authorship_tag": "ABX9TyOFA9m4VZ0qnxn6akHdzhIB",
      "include_colab_link": true
    },
    "kernelspec": {
      "name": "python3",
      "display_name": "Python 3"
    }
  },
  "cells": [
    {
      "cell_type": "markdown",
      "metadata": {
        "id": "view-in-github",
        "colab_type": "text"
      },
      "source": [
        "<a href=\"https://colab.research.google.com/github/tcsprojects-puc/analise-dados/blob/master/covid.ipynb\" target=\"_parent\"><img src=\"https://colab.research.google.com/assets/colab-badge.svg\" alt=\"Open In Colab\"/></a>"
      ]
    },
    {
      "cell_type": "markdown",
      "metadata": {
        "id": "YDwcRoegafK3",
        "colab_type": "text"
      },
      "source": [
        "**Análise de Dados - Covid-19**"
      ]
    },
    {
      "cell_type": "code",
      "metadata": {
        "id": "w-5qw5as6SF3",
        "colab_type": "code",
        "colab": {}
      },
      "source": [
        "import pandas as pd\n",
        "import matplotlib.pyplot as plt\n",
        "from matplotlib.ticker import PercentFormatter\n",
        "\n",
        "#https://www150.statcan.gc.ca/t1/tbl1/en/tv.action?pid=1310076701\n",
        "#O dataset contém dados de pessoas que contraíram o covid-19 no Canada. Ele contém 3098 casos do total de 8591 registrados entre 26/01 a 31/03. \n",
        "#As variáveis analisadas foram: Gênero, Faixa Etária, Tipo de transmissão e Hospitalização.\n",
        "\n",
        "dataset = pd.read_csv('/content/drive/My Drive/Covid/corona.csv', sep=';')\n",
        "\n",
        "#Mapeando valoroes\n",
        "dataset['Gender'] = dataset['Gender'].map({1: 'Male', 2: 'Female', 3: 'Other', 7: 'Unknown', 9: 'Not stated' })\n",
        "dataset['Age group'] = dataset['Age group'].map({1: '0 a 19', 2: '20 a 39', 3: '40 a 49', 4: '50 a 59', 5: '60 a 69', 6: '70 a 79', 7: '80+', 9: 'Not stated' })\n",
        "dataset['Transmission'] = dataset['Transmission'].map({1: 'Travel', 2: 'Community', 3: 'Pending'})\n",
        "dataset['Hospitalization'] = dataset['Hospitalization'].map({1: 'Yes', 2: 'No', 7: 'Unknown', 9: 'Not Stated'})"
      ],
      "execution_count": 0,
      "outputs": []
    },
    {
      "cell_type": "markdown",
      "metadata": {
        "id": "AgR0TYxpanQd",
        "colab_type": "text"
      },
      "source": [
        "**Estrutura do dataset**"
      ]
    },
    {
      "cell_type": "code",
      "metadata": {
        "id": "Aelt7_HbHfoz",
        "colab_type": "code",
        "outputId": "80b6584e-aeda-479f-ef3b-e0a46efd0355",
        "colab": {
          "base_uri": "https://localhost:8080/",
          "height": 198
        }
      },
      "source": [
        "# Exibe as 5 primerias linhas\n",
        "dataset.head()"
      ],
      "execution_count": 0,
      "outputs": [
        {
          "output_type": "execute_result",
          "data": {
            "text/html": [
              "<div>\n",
              "<style scoped>\n",
              "    .dataframe tbody tr th:only-of-type {\n",
              "        vertical-align: middle;\n",
              "    }\n",
              "\n",
              "    .dataframe tbody tr th {\n",
              "        vertical-align: top;\n",
              "    }\n",
              "\n",
              "    .dataframe thead th {\n",
              "        text-align: right;\n",
              "    }\n",
              "</style>\n",
              "<table border=\"1\" class=\"dataframe\">\n",
              "  <thead>\n",
              "    <tr style=\"text-align: right;\">\n",
              "      <th></th>\n",
              "      <th>ID</th>\n",
              "      <th>Period</th>\n",
              "      <th>Gender</th>\n",
              "      <th>Age group</th>\n",
              "      <th>Transmission</th>\n",
              "      <th>Hospitalization</th>\n",
              "      <th>Intensive</th>\n",
              "      <th>Status</th>\n",
              "    </tr>\n",
              "  </thead>\n",
              "  <tbody>\n",
              "    <tr>\n",
              "      <th>0</th>\n",
              "      <td>1</td>\n",
              "      <td>2020</td>\n",
              "      <td>Female</td>\n",
              "      <td>20 a 39</td>\n",
              "      <td>Community</td>\n",
              "      <td>Unknown</td>\n",
              "      <td>9</td>\n",
              "      <td>9</td>\n",
              "    </tr>\n",
              "    <tr>\n",
              "      <th>1</th>\n",
              "      <td>2</td>\n",
              "      <td>2020</td>\n",
              "      <td>Male</td>\n",
              "      <td>60 a 69</td>\n",
              "      <td>Community</td>\n",
              "      <td>Unknown</td>\n",
              "      <td>9</td>\n",
              "      <td>9</td>\n",
              "    </tr>\n",
              "    <tr>\n",
              "      <th>2</th>\n",
              "      <td>3</td>\n",
              "      <td>2020</td>\n",
              "      <td>Female</td>\n",
              "      <td>20 a 39</td>\n",
              "      <td>Community</td>\n",
              "      <td>Unknown</td>\n",
              "      <td>9</td>\n",
              "      <td>9</td>\n",
              "    </tr>\n",
              "    <tr>\n",
              "      <th>3</th>\n",
              "      <td>4</td>\n",
              "      <td>2020</td>\n",
              "      <td>Female</td>\n",
              "      <td>20 a 39</td>\n",
              "      <td>Community</td>\n",
              "      <td>Unknown</td>\n",
              "      <td>9</td>\n",
              "      <td>9</td>\n",
              "    </tr>\n",
              "    <tr>\n",
              "      <th>4</th>\n",
              "      <td>5</td>\n",
              "      <td>2020</td>\n",
              "      <td>Female</td>\n",
              "      <td>20 a 39</td>\n",
              "      <td>Community</td>\n",
              "      <td>Unknown</td>\n",
              "      <td>9</td>\n",
              "      <td>9</td>\n",
              "    </tr>\n",
              "  </tbody>\n",
              "</table>\n",
              "</div>"
            ],
            "text/plain": [
              "   ID  Period  Gender Age group Transmission Hospitalization  Intensive  Status\n",
              "0   1    2020  Female   20 a 39    Community         Unknown          9       9\n",
              "1   2    2020    Male   60 a 69    Community         Unknown          9       9\n",
              "2   3    2020  Female   20 a 39    Community         Unknown          9       9\n",
              "3   4    2020  Female   20 a 39    Community         Unknown          9       9\n",
              "4   5    2020  Female   20 a 39    Community         Unknown          9       9"
            ]
          },
          "metadata": {
            "tags": []
          },
          "execution_count": 147
        }
      ]
    },
    {
      "cell_type": "markdown",
      "metadata": {
        "id": "QBoufSBQaxan",
        "colab_type": "text"
      },
      "source": [
        "**Histograma - Geral x Faixa Etária**"
      ]
    },
    {
      "cell_type": "code",
      "metadata": {
        "id": "XUDsl0hwHpdl",
        "colab_type": "code",
        "outputId": "faf39cc4-1e8c-4bf3-d045-e2dc6f130741",
        "colab": {
          "base_uri": "https://localhost:8080/",
          "height": 281
        }
      },
      "source": [
        "age_group = dataset['Age group']\n",
        "\n",
        "plt.title('Geral x Faixa Etária')\n",
        "plt.hist(age_group, weights=np.ones(len(age_group)) / len(age_group), bins=16)\n",
        "plt.gca().yaxis.set_major_formatter(PercentFormatter(1))\n",
        "plt.show()"
      ],
      "execution_count": 0,
      "outputs": [
        {
          "output_type": "display_data",
          "data": {
            "image/png": "[encoded data removed]",
            "text/plain": [
              "<Figure size 432x288 with 1 Axes>"
            ]
          },
          "metadata": {
            "tags": [],
            "needs_background": "light"
          }
        }
      ]
    },
    {
      "cell_type": "code",
      "metadata": {
        "id": "f5dIKrvai3Q3",
        "colab_type": "code",
        "outputId": "92fe20f3-621a-4cd7-aff8-f78b03d4e362",
        "colab": {
          "base_uri": "https://localhost:8080/",
          "height": 181
        }
      },
      "source": [
        "#Geral x Idade\n",
        "age_group = dataset['Age group']\n",
        "age_group_count = age_group.value_counts()\n",
        "age_group_count.apply(lambda x: x * 100 / float(age_group.count())).sort_values()"
      ],
      "execution_count": 0,
      "outputs": [
        {
          "output_type": "execute_result",
          "data": {
            "text/plain": [
              "0 a 19         3.588749\n",
              "Not stated     5.205302\n",
              "80+            5.237633\n",
              "70 a 79        8.503071\n",
              "60 a 69       15.680569\n",
              "40 a 49       16.036211\n",
              "50 a 59       18.364048\n",
              "20 a 39       27.384416\n",
              "Name: Age group, dtype: float64"
            ]
          },
          "metadata": {
            "tags": []
          },
          "execution_count": 149
        }
      ]
    },
    {
      "cell_type": "markdown",
      "metadata": {
        "id": "KE-49AP5bux4",
        "colab_type": "text"
      },
      "source": [
        "**Histograma - Geral x Gênero**"
      ]
    },
    {
      "cell_type": "code",
      "metadata": {
        "id": "NoZBo53kKZbF",
        "colab_type": "code",
        "outputId": "b90d0d32-fab0-4b4e-ef18-c6dfbeb10fcd",
        "colab": {
          "base_uri": "https://localhost:8080/",
          "height": 281
        }
      },
      "source": [
        "#Geral x Gênero\n",
        "gender = dataset['Gender']\n",
        "plt.title('Geral x Gênero')\n",
        "plt.hist(gender, weights=np.ones(len(gender)) / len(gender), bins=15)\n",
        "plt.gca().yaxis.set_major_formatter(PercentFormatter(1))\n",
        "plt.show()"
      ],
      "execution_count": 0,
      "outputs": [
        {
          "output_type": "display_data",
          "data": {
            "image/png": "[encoded data removed]",
            "text/plain": [
              "<Figure size 432x288 with 1 Axes>"
            ]
          },
          "metadata": {
            "tags": [],
            "needs_background": "light"
          }
        }
      ]
    },
    {
      "cell_type": "code",
      "metadata": {
        "id": "0Mhm_IJvWm35",
        "colab_type": "code",
        "outputId": "98abaeb2-9574-46ef-b3a1-102b46dcf549",
        "colab": {
          "base_uri": "https://localhost:8080/",
          "height": 108
        }
      },
      "source": [
        "gender = dataset['Gender']\n",
        "gender_count = gender.value_counts()\n",
        "gender_count.apply(lambda x: x * 100 / float(gender.count())).sort_values()"
      ],
      "execution_count": 0,
      "outputs": [
        {
          "output_type": "execute_result",
          "data": {
            "text/plain": [
              "Unknown        0.290980\n",
              "Not stated     0.743615\n",
              "Female        47.785322\n",
              "Male          51.180084\n",
              "Name: Gender, dtype: float64"
            ]
          },
          "metadata": {
            "tags": []
          },
          "execution_count": 151
        }
      ]
    },
    {
      "cell_type": "markdown",
      "metadata": {
        "id": "b54SKBf0b55X",
        "colab_type": "text"
      },
      "source": [
        "**Masculino x Idade**"
      ]
    },
    {
      "cell_type": "code",
      "metadata": {
        "id": "VfLReANV8q2L",
        "colab_type": "code",
        "outputId": "4042b2f6-aeca-4c9f-9949-ac74c290c9a9",
        "colab": {
          "base_uri": "https://localhost:8080/",
          "height": 181
        }
      },
      "source": [
        "#Masculino x Idade\n",
        "male = dataset.loc[dataset['Gender'] == 'Male']\n",
        "male_age = male['Age group']\n",
        "male_age_count = male_age.value_counts()\n",
        "male_age_count.apply(lambda x: x * 100 / float(male_age.count())).sort_values()"
      ],
      "execution_count": 0,
      "outputs": [
        {
          "output_type": "execute_result",
          "data": {
            "text/plain": [
              "0 a 19         4.042956\n",
              "80+            4.927353\n",
              "Not stated     5.369551\n",
              "70 a 79        8.780796\n",
              "60 a 69       15.982312\n",
              "50 a 59       16.993051\n",
              "40 a 49       18.066961\n",
              "20 a 39       25.837018\n",
              "Name: Age group, dtype: float64"
            ]
          },
          "metadata": {
            "tags": []
          },
          "execution_count": 152
        }
      ]
    },
    {
      "cell_type": "markdown",
      "metadata": {
        "id": "MhPkBi8ycMDR",
        "colab_type": "text"
      },
      "source": [
        "**Feminio x Idade**"
      ]
    },
    {
      "cell_type": "code",
      "metadata": {
        "id": "BVEznn1X-zd7",
        "colab_type": "code",
        "outputId": "9f4d2c3e-be30-44ce-c855-fc092ab00ca0",
        "colab": {
          "base_uri": "https://localhost:8080/",
          "height": 181
        }
      },
      "source": [
        "#Feminio x Idade\n",
        "female = dataset.loc[dataset['Gender'] == 'Female']\n",
        "\n",
        "female_age = female['Age group']\n",
        "female_age_count = female_age.value_counts()\n",
        "female_age_count.apply(lambda x: x * 100 / float(female_age.count())).sort_values()"
      ],
      "execution_count": 0,
      "outputs": [
        {
          "output_type": "execute_result",
          "data": {
            "text/plain": [
              "0 a 19         3.112314\n",
              "Not stated     4.397835\n",
              "80+            5.615697\n",
              "70 a 79        8.322057\n",
              "40 a 49       14.005413\n",
              "60 a 69       15.493911\n",
              "50 a 59       19.891746\n",
              "20 a 39       29.161028\n",
              "Name: Age group, dtype: float64"
            ]
          },
          "metadata": {
            "tags": []
          },
          "execution_count": 153
        }
      ]
    },
    {
      "cell_type": "markdown",
      "metadata": {
        "id": "R5vGnhG_cZ-Y",
        "colab_type": "text"
      },
      "source": [
        "**Transmissão**"
      ]
    },
    {
      "cell_type": "code",
      "metadata": {
        "id": "2OkUwMd4UVJT",
        "colab_type": "code",
        "outputId": "99ae872b-2125-40d6-f63d-c533c67a3a93",
        "colab": {
          "base_uri": "https://localhost:8080/",
          "height": 328
        }
      },
      "source": [
        "plt.figure(figsize=(5,10))\n",
        "transmission = dataset['Transmission']\n",
        "transmission.value_counts().plot.pie(autopct='%1.1f%%')"
      ],
      "execution_count": 0,
      "outputs": [
        {
          "output_type": "execute_result",
          "data": {
            "text/plain": [
              "<matplotlib.axes._subplots.AxesSubplot at 0x7f4b994ffa90>"
            ]
          },
          "metadata": {
            "tags": []
          },
          "execution_count": 154
        },
        {
          "output_type": "display_data",
          "data": {
            "image/png": "[encoded data removed]",
            "text/plain": [
              "<Figure size 360x720 with 1 Axes>"
            ]
          },
          "metadata": {
            "tags": []
          }
        }
      ]
    },
    {
      "cell_type": "markdown",
      "metadata": {
        "id": "hYI3KIuscfJ9",
        "colab_type": "text"
      },
      "source": [
        "**Hospitalização**"
      ]
    },
    {
      "cell_type": "code",
      "metadata": {
        "id": "jwyd9k5VGi_r",
        "colab_type": "code",
        "outputId": "d47336cb-fc6e-43a9-a8f1-6040f5057498",
        "colab": {
          "base_uri": "https://localhost:8080/",
          "height": 328
        }
      },
      "source": [
        "plt.figure(figsize=(5,10))\n",
        "hospitalization = dataset['Hospitalization']\n",
        "hospitalization.value_counts().plot.pie(autopct='%1.1f%%')"
      ],
      "execution_count": 0,
      "outputs": [
        {
          "output_type": "execute_result",
          "data": {
            "text/plain": [
              "<matplotlib.axes._subplots.AxesSubplot at 0x7f4b994bfe80>"
            ]
          },
          "metadata": {
            "tags": []
          },
          "execution_count": 155
        },
        {
          "output_type": "display_data",
          "data": {
            "image/png": "[encoded data removed]",
            "text/plain": [
              "<Figure size 360x720 with 1 Axes>"
            ]
          },
          "metadata": {
            "tags": []
          }
        }
      ]
    }
  ]
}